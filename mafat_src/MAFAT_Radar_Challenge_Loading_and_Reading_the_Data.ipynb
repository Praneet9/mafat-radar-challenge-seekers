{
 "cells": [
  {
   "cell_type": "markdown",
   "metadata": {
    "colab_type": "text",
    "id": "EaHco-kd_Hmt"
   },
   "source": [
    "#**MAFAT Radar Challenge - Loading and Reading the Data**\n",
    "\n",
    "This notebook presents:\n",
    "1. How to load the data.   \n",
    "2. How to transform the Data into a Matlab file.\n",
    "\n",
    "[Competition website](https://competitions.codalab.org/competitions/25389)   \n",
    "[MAFAT Challenge homepage](https://mafatchallenge.mod.gov.il/)"
   ]
  },
  {
   "cell_type": "markdown",
   "metadata": {
    "colab_type": "text",
    "id": "cVFEt-Zk91iv"
   },
   "source": [
    "*To load the data from Google Drive the data must be first uploaded to  Google Drive.*"
   ]
  },
  {
   "cell_type": "code",
   "execution_count": 1,
   "metadata": {
    "colab": {},
    "colab_type": "code",
    "id": "sAHA4tmhz7zS"
   },
   "outputs": [],
   "source": [
    "import pickle\n",
    "import os\n",
    "import pandas as pd\n",
    "import numpy as np\n",
    "\n",
    "from termcolor import colored"
   ]
  },
  {
   "cell_type": "code",
   "execution_count": 2,
   "metadata": {
    "colab": {
     "base_uri": "https://localhost:8080/",
     "height": 124
    },
    "colab_type": "code",
    "id": "43agNdklvnNc",
    "outputId": "697773ae-2d69-41fb-aa00-0c7b48c110b2"
   },
   "outputs": [
    {
     "ename": "ModuleNotFoundError",
     "evalue": "No module named 'google.colab'",
     "output_type": "error",
     "traceback": [
      "\u001b[0;31m---------------------------------------------------------------------------\u001b[0m",
      "\u001b[0;31mModuleNotFoundError\u001b[0m                       Traceback (most recent call last)",
      "\u001b[0;32m<ipython-input-2-5cd0307dcc6d>\u001b[0m in \u001b[0;36m<module>\u001b[0;34m\u001b[0m\n\u001b[0;32m----> 1\u001b[0;31m \u001b[0;32mfrom\u001b[0m \u001b[0mgoogle\u001b[0m\u001b[0;34m.\u001b[0m\u001b[0mcolab\u001b[0m \u001b[0;32mimport\u001b[0m \u001b[0mdrive\u001b[0m\u001b[0;34m\u001b[0m\u001b[0;34m\u001b[0m\u001b[0m\n\u001b[0m\u001b[1;32m      2\u001b[0m \u001b[0mmount_path\u001b[0m \u001b[0;34m=\u001b[0m \u001b[0;34m'/content/gdrive'\u001b[0m\u001b[0;34m\u001b[0m\u001b[0;34m\u001b[0m\u001b[0m\n\u001b[1;32m      3\u001b[0m \u001b[0mdrive\u001b[0m\u001b[0;34m.\u001b[0m\u001b[0mmount\u001b[0m\u001b[0;34m(\u001b[0m\u001b[0mmount_path\u001b[0m\u001b[0;34m)\u001b[0m\u001b[0;34m\u001b[0m\u001b[0;34m\u001b[0m\u001b[0m\n",
      "\u001b[0;31mModuleNotFoundError\u001b[0m: No module named 'google.colab'"
     ]
    }
   ],
   "source": [
    "#from google.colab import drive\n",
    "#mount_path = '/content/gdrive'\n",
    "#drive.mount(mount_path)"
   ]
  },
  {
   "cell_type": "code",
   "execution_count": null,
   "metadata": {
    "colab": {
     "base_uri": "https://localhost:8080/",
     "height": 69
    },
    "colab_type": "code",
    "id": "5qT5uObShNSw",
    "outputId": "522b3fb8-76e0-473b-e23c-68966c318e04"
   },
   "outputs": [
    {
     "name": "stdout",
     "output_type": "stream",
     "text": [
      "Please enter path to competition data files:\n",
      "My Drive/MAFAT Radar Challenge - Can you distinguish between humans and animals in radar tracks?/Data\n",
      "\u001b[32mEverything is setup correctly\u001b[0m\n"
     ]
    }
   ],
   "source": [
    "# Set and test path to competition data files\n",
    "competition_path = 'INSERT HERE'\n",
    "try:\n",
    "  if competition_path == 'INSERT HERE':\n",
    "    print('Please enter path to competition data files:')\n",
    "    competition_path = input()\n",
    "  file_path = 'MAFAT RADAR Challenge - Training Set V1.csv'\n",
    "  with open(f'{mount_path}/{competition_path}/{file_path}') as f:\n",
    "    f.readlines()\n",
    "  print(colored('Everything is setup correctly', color='green'))\n",
    "except:\n",
    "  print(colored('Please mount drive and set competition_path correctly',\n",
    "                color='red'))"
   ]
  },
  {
   "cell_type": "code",
   "execution_count": 10,
   "metadata": {
    "colab": {},
    "colab_type": "code",
    "id": "U8mGshsyz9Y3"
   },
   "outputs": [],
   "source": [
    "def load_data(file_path):\n",
    "  \"\"\"\n",
    "  Reads all data files (metadata and signal matrix data) as python dictionary,\n",
    "  the pkl and csv files must have the same file name.\n",
    "\n",
    "  Arguments:\n",
    "    file_path -- {str} -- path to the iq_matrix file and metadata file\n",
    "\n",
    "  Returns:\n",
    "    Python dictionary\n",
    "  \"\"\"\n",
    "  pkl = load_pkl_data(file_path)\n",
    "  meta = load_csv_metadata(file_path)\n",
    "  data_dictionary = {**meta, **pkl}\n",
    "  \n",
    "  for key in data_dictionary.keys():\n",
    "    data_dictionary[key] = np.array(data_dictionary[key])\n",
    "\n",
    "  return data_dictionary\n",
    "\n",
    "\n",
    "def load_pkl_data(file_path):\n",
    "  \"\"\"\n",
    "  Reads pickle file as a python dictionary (only Signal data).\n",
    "\n",
    "  Arguments:\n",
    "    file_path -- {str} -- path to pickle iq_matrix file\n",
    "\n",
    "  Returns:\n",
    "    Python dictionary\n",
    "  \"\"\"\n",
    "  path = os.path.join(file_path + '.pkl')\n",
    "  with open(path, 'rb') as data:\n",
    "    output = pickle.load(data)\n",
    "  return output\n",
    "\n",
    "\n",
    "def load_csv_metadata(file_path):\n",
    "  \"\"\"\n",
    "  Reads csv as pandas DataFrame (only Metadata).\n",
    "\n",
    "  Arguments:\n",
    "    file_path -- {str} -- path to csv metadata file\n",
    "\n",
    "  Returns:\n",
    "    Pandas DataFarme\n",
    "  \"\"\"\n",
    "  path = os.path.join(file_path + '.csv')\n",
    "  with open(path, 'rb') as data:\n",
    "    output = pd.read_csv(data)\n",
    "  return output"
   ]
  },
  {
   "cell_type": "markdown",
   "metadata": {
    "colab_type": "text",
    "id": "DizROa_3-Chb"
   },
   "source": [
    "Below an example for loading all the training data and the public test data (signal + metadata).   \n",
    "It is possible to load only the csv metadata file or the signal pkl file by using the    \n",
    "\"load_csv_metadata()\" function or \"load_pkl_data()\" function."
   ]
  },
  {
   "cell_type": "code",
   "execution_count": 11,
   "metadata": {
    "colab": {},
    "colab_type": "code",
    "id": "slBkXo2_h8pX"
   },
   "outputs": [],
   "source": [
    "#train_path = 'MAFAT RADAR Challenge - Training Set V1'\n",
    "#test_path = 'MAFAT RADAR Challenge - Public Test Set V1'\n",
    "\n",
    "#training = load_data(train_path)\n",
    "#test = load_data(test_path)"
   ]
  },
  {
   "cell_type": "code",
   "execution_count": 12,
   "metadata": {},
   "outputs": [],
   "source": [
    "train_path = '/home/vaibhawvipul/Documents/vaibhawvipul/datasets/mafat/MAFAT RADAR Challenge - Training Set V1'\n",
    "test_path = '/home/vaibhawvipul/Documents/vaibhawvipul/datasets/mafat/MAFAT RADAR Challenge - Public Test Set V1'\n",
    "\n",
    "training = load_data(train_path)\n",
    "test = load_data(test_path)"
   ]
  },
  {
   "cell_type": "markdown",
   "metadata": {
    "colab_type": "text",
    "id": "v18_AAlc-QCn"
   },
   "source": [
    "After the loading is finished the data is stored as a simple python dictionary.   \n",
    "   \n",
    "For more information on the data fields please go to the [competition website](https://competitions.codalab.org/competitions/25389)   \n",
    " or read the [descriptive statistics](https://colab.research.google.com/drive/11Lzihg2vKIbo4KAIIJxW5CRZIncoWgtL?usp=sharing) notebook. \n",
    "\n",
    "\n"
   ]
  },
  {
   "cell_type": "code",
   "execution_count": 13,
   "metadata": {
    "colab": {
     "base_uri": "https://localhost:8080/",
     "height": 187
    },
    "colab_type": "code",
    "id": "3IjPRtSM8UYY",
    "outputId": "0986a232-6133-4477-bbaa-3899a4924ebb"
   },
   "outputs": [
    {
     "data": {
      "text/plain": [
       "['segment_id',\n",
       " 'track_id',\n",
       " 'geolocation_type',\n",
       " 'geolocation_id',\n",
       " 'sensor_id',\n",
       " 'snr_type',\n",
       " 'date_index',\n",
       " 'target_type',\n",
       " 'doppler_burst',\n",
       " 'iq_sweep_burst']"
      ]
     },
     "execution_count": 13,
     "metadata": {},
     "output_type": "execute_result"
    }
   ],
   "source": [
    "list(training.keys())"
   ]
  },
  {
   "cell_type": "code",
   "execution_count": 14,
   "metadata": {
    "colab": {
     "base_uri": "https://localhost:8080/",
     "height": 34
    },
    "colab_type": "code",
    "id": "_KZvkKzG83oZ",
    "outputId": "ba4fdbd7-5e68-481c-ef0e-6605ef497d48"
   },
   "outputs": [
    {
     "data": {
      "text/plain": [
       "['segment_id', 'snr_type', 'doppler_burst', 'iq_sweep_burst']"
      ]
     },
     "execution_count": 14,
     "metadata": {},
     "output_type": "execute_result"
    }
   ],
   "source": [
    "list(test.keys())"
   ]
  },
  {
   "cell_type": "markdown",
   "metadata": {
    "colab_type": "text",
    "id": "GJ_I6aor1I5M"
   },
   "source": [
    "##Convert into MATLAB\n",
    "*This step is optional and useful for participants who want to use MATLAB to create model development.*\n",
    "\n",
    "After loading the data it is possible to transform it into a mat file for MATLAB"
   ]
  },
  {
   "cell_type": "code",
   "execution_count": null,
   "metadata": {
    "colab": {},
    "colab_type": "code",
    "id": "jHN0giXZ1eXr"
   },
   "outputs": [],
   "source": [
    "from scipy.io import savemat  # Only for participants who wish to work on MATLAB\n",
    "\n",
    "# Define the path for saving the *.mat file\n",
    "training_mat_path = os.path.join(mount_path, competition_path, \n",
    "                                 train_path + '.mat')\n",
    "test_mat_path = os.path.join(mount_path, competition_path, \n",
    "                             test_path + '.mat')\n",
    "\n",
    "# savemat receives two arguments: saving path and dictionary \n",
    "savemat(training_mat_path, training)\n",
    "savemat(test_mat_path, test)"
   ]
  },
  {
   "cell_type": "code",
   "execution_count": null,
   "metadata": {
    "colab": {},
    "colab_type": "code",
    "id": "tnNAqJG4b_Vb"
   },
   "outputs": [],
   "source": [
    "# Download the mat files\n",
    "from google.colab import files\n",
    "files.download(training_mat_path)\n",
    "files.download(test_mat_path)"
   ]
  }
 ],
 "metadata": {
  "colab": {
   "collapsed_sections": [],
   "name": "MAFAT Radar Challenge - Loading and Reading the Data.ipynb",
   "provenance": [],
   "toc_visible": true
  },
  "kernelspec": {
   "display_name": "Python 3",
   "language": "python",
   "name": "python3"
  },
  "language_info": {
   "codemirror_mode": {
    "name": "ipython",
    "version": 3
   },
   "file_extension": ".py",
   "mimetype": "text/x-python",
   "name": "python",
   "nbconvert_exporter": "python",
   "pygments_lexer": "ipython3",
   "version": "3.6.9"
  }
 },
 "nbformat": 4,
 "nbformat_minor": 1
}
